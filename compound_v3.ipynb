{
 "cells": [
  {
   "cell_type": "code",
   "execution_count": 1,
   "metadata": {},
   "outputs": [],
   "source": [
    "%%capture --no-display\n",
    "%pip install python-dotenv\n",
    "%pip install web3"
   ]
  },
  {
   "cell_type": "code",
   "execution_count": 2,
   "metadata": {},
   "outputs": [],
   "source": [
    "%load_ext dotenv\n",
    "%dotenv"
   ]
  },
  {
   "cell_type": "code",
   "execution_count": 3,
   "metadata": {},
   "outputs": [],
   "source": [
    "import os\n",
    "\n",
    "infuraApiKey = os.environ.get(\"INFURA_API_KEY\")"
   ]
  },
  {
   "cell_type": "code",
   "execution_count": 4,
   "metadata": {},
   "outputs": [
    {
     "data": {
      "text/plain": [
       "True"
      ]
     },
     "execution_count": 4,
     "metadata": {},
     "output_type": "execute_result"
    }
   ],
   "source": [
    "from web3 import Web3\n",
    "\n",
    "infura_url = f\"https://polygon-mainnet.infura.io/v3/{infuraApiKey}\"\n",
    "web3 = Web3(Web3.HTTPProvider(infura_url))\n",
    "web3.is_connected()"
   ]
  },
  {
   "cell_type": "markdown",
   "metadata": {},
   "source": [
    "Polygon USDC contract\n",
    "- https://docs.compound.finance/#developer-resources \n",
    "- https://polygonscan.com/address/0xf25212e676d1f7f89cd72ffee66158f541246445"
   ]
  },
  {
   "cell_type": "code",
   "execution_count": 5,
   "metadata": {},
   "outputs": [
    {
     "data": {
      "text/plain": [
       "[<Function absorb(address,address[])>,\n",
       " <Function accrueAccount(address)>,\n",
       " <Function approveThis(address,address,uint256)>,\n",
       " <Function balanceOf(address)>,\n",
       " <Function baseBorrowMin()>,\n",
       " <Function baseMinForRewards()>,\n",
       " <Function baseScale()>,\n",
       " <Function baseToken()>,\n",
       " <Function baseTokenPriceFeed()>,\n",
       " <Function baseTrackingBorrowSpeed()>,\n",
       " <Function baseTrackingSupplySpeed()>,\n",
       " <Function borrowBalanceOf(address)>,\n",
       " <Function borrowKink()>,\n",
       " <Function borrowPerSecondInterestRateBase()>,\n",
       " <Function borrowPerSecondInterestRateSlopeHigh()>,\n",
       " <Function borrowPerSecondInterestRateSlopeLow()>,\n",
       " <Function buyCollateral(address,uint256,uint256,address)>,\n",
       " <Function decimals()>,\n",
       " <Function extensionDelegate()>,\n",
       " <Function getAssetInfo(uint8)>,\n",
       " <Function getAssetInfoByAddress(address)>,\n",
       " <Function getBorrowRate(uint256)>,\n",
       " <Function getCollateralReserves(address)>,\n",
       " <Function getPrice(address)>,\n",
       " <Function getReserves()>,\n",
       " <Function getSupplyRate(uint256)>,\n",
       " <Function getUtilization()>,\n",
       " <Function governor()>,\n",
       " <Function hasPermission(address,address)>,\n",
       " <Function initializeStorage()>,\n",
       " <Function isAbsorbPaused()>,\n",
       " <Function isAllowed(address,address)>,\n",
       " <Function isBorrowCollateralized(address)>,\n",
       " <Function isBuyPaused()>,\n",
       " <Function isLiquidatable(address)>,\n",
       " <Function isSupplyPaused()>,\n",
       " <Function isTransferPaused()>,\n",
       " <Function isWithdrawPaused()>,\n",
       " <Function liquidatorPoints(address)>,\n",
       " <Function numAssets()>,\n",
       " <Function pause(bool,bool,bool,bool,bool)>,\n",
       " <Function pauseGuardian()>,\n",
       " <Function quoteCollateral(address,uint256)>,\n",
       " <Function storeFrontPriceFactor()>,\n",
       " <Function supply(address,uint256)>,\n",
       " <Function supplyFrom(address,address,address,uint256)>,\n",
       " <Function supplyKink()>,\n",
       " <Function supplyPerSecondInterestRateBase()>,\n",
       " <Function supplyPerSecondInterestRateSlopeHigh()>,\n",
       " <Function supplyPerSecondInterestRateSlopeLow()>,\n",
       " <Function supplyTo(address,address,uint256)>,\n",
       " <Function targetReserves()>,\n",
       " <Function totalBorrow()>,\n",
       " <Function totalSupply()>,\n",
       " <Function totalsCollateral(address)>,\n",
       " <Function trackingIndexScale()>,\n",
       " <Function transfer(address,uint256)>,\n",
       " <Function transferAsset(address,address,uint256)>,\n",
       " <Function transferAssetFrom(address,address,address,uint256)>,\n",
       " <Function transferFrom(address,address,uint256)>,\n",
       " <Function userBasic(address)>,\n",
       " <Function userCollateral(address,address)>,\n",
       " <Function userNonce(address)>,\n",
       " <Function withdraw(address,uint256)>,\n",
       " <Function withdrawFrom(address,address,address,uint256)>,\n",
       " <Function withdrawReserves(address,uint256)>,\n",
       " <Function withdrawTo(address,address,uint256)>]"
      ]
     },
     "execution_count": 5,
     "metadata": {},
     "output_type": "execute_result"
    }
   ],
   "source": [
    "import json\n",
    "\n",
    "sc_address = \"0xF25212E676D1F7F89Cd72fFEe66158f541246445\"\n",
    "with open (\"./abi/compound_v3_usdc.json\") as file:\n",
    "    abi = json.load(file)\n",
    "\n",
    "contract = web3.eth.contract(address=sc_address, abi=abi)\n",
    "contract.all_functions()"
   ]
  },
  {
   "cell_type": "code",
   "execution_count": 6,
   "metadata": {},
   "outputs": [
    {
     "data": {
      "text/plain": [
       "6"
      ]
     },
     "execution_count": 6,
     "metadata": {},
     "output_type": "execute_result"
    }
   ],
   "source": [
    "decimals = contract.functions.decimals().call()\n",
    "decimals"
   ]
  },
  {
   "cell_type": "code",
   "execution_count": 7,
   "metadata": {},
   "outputs": [
    {
     "data": {
      "text/plain": [
       "5"
      ]
     },
     "execution_count": 7,
     "metadata": {},
     "output_type": "execute_result"
    }
   ],
   "source": [
    "asset_number = contract.functions.numAssets().call()\n",
    "asset_number"
   ]
  },
  {
   "cell_type": "code",
   "execution_count": 8,
   "metadata": {},
   "outputs": [
    {
     "data": {
      "text/plain": [
       "'0x2791Bca1f2de4661ED88A30C99A7a9449Aa84174'"
      ]
     },
     "execution_count": 8,
     "metadata": {},
     "output_type": "execute_result"
    }
   ],
   "source": [
    "baseAsset = contract.functions.baseToken().call()\n",
    "baseAsset"
   ]
  },
  {
   "cell_type": "code",
   "execution_count": 9,
   "metadata": {},
   "outputs": [
    {
     "name": "stdout",
     "output_type": "stream",
     "text": [
      "(0, '0x7ceB23fD6bC0adD59E62ac25578270cFf1b9f619', '0xF9680D99D6C9589e2a93a78A04A279e509205945', 1000000000000000000, 800000000000000000, 850000000000000000, 950000000000000000, 20000000000000000000000)\n",
      "collateral_order 0\n",
      "collateral_token 0x7ceB23fD6bC0adD59E62ac25578270cFf1b9f619\n",
      "chainlink_price_feed 0xF9680D99D6C9589e2a93a78A04A279e509205945\n",
      "---------------------------------------------------------------\n",
      "(1, '0x1BFD67037B42Cf73acF2047067bd4F2C47D9BfD6', '0xDE31F8bFBD8c84b5360CFACCa3539B938dd78ae6', 100000000, 750000000000000000, 850000000000000000, 900000000000000000, 150000000000)\n",
      "collateral_order 1\n",
      "collateral_token 0x1BFD67037B42Cf73acF2047067bd4F2C47D9BfD6\n",
      "chainlink_price_feed 0xDE31F8bFBD8c84b5360CFACCa3539B938dd78ae6\n",
      "---------------------------------------------------------------\n",
      "(2, '0x0d500B1d8E8eF31E21C99d1Db9A6444d3ADf1270', '0xAB594600376Ec9fD91F8e885dADF0CE036862dE0', 1000000000000000000, 650000000000000000, 800000000000000000, 900000000000000000, 20000000000000000000000000)\n",
      "collateral_order 2\n",
      "collateral_token 0x0d500B1d8E8eF31E21C99d1Db9A6444d3ADf1270\n",
      "chainlink_price_feed 0xAB594600376Ec9fD91F8e885dADF0CE036862dE0\n",
      "---------------------------------------------------------------\n",
      "(3, '0xfa68FB4628DFF1028CFEc22b4162FCcd0d45efb6', '0x5d37E4b374E6907de8Fc7fb33EE3b0af403C7403', 1000000000000000000, 550000000000000000, 600000000000000000, 800000000000000000, 6000000000000000000000000)\n",
      "collateral_order 3\n",
      "collateral_token 0xfa68FB4628DFF1028CFEc22b4162FCcd0d45efb6\n",
      "chainlink_price_feed 0x5d37E4b374E6907de8Fc7fb33EE3b0af403C7403\n",
      "---------------------------------------------------------------\n",
      "(4, '0x3A58a54C066FdC0f2D55FC9C89F0415C92eBf3C4', '0x97371dF4492605486e23Da797fA68e55Fc38a13f', 1000000000000000000, 600000000000000000, 650000000000000000, 800000000000000000, 8000000000000000000000000)\n",
      "collateral_order 4\n",
      "collateral_token 0x3A58a54C066FdC0f2D55FC9C89F0415C92eBf3C4\n",
      "chainlink_price_feed 0x97371dF4492605486e23Da797fA68e55Fc38a13f\n",
      "---------------------------------------------------------------\n"
     ]
    }
   ],
   "source": [
    "for x in range (0, asset_number):\n",
    "    print (contract.functions.getAssetInfo(x).call())\n",
    "    print ('collateral_order', contract.functions.getAssetInfo(x).call()[0])\n",
    "    print ('collateral_token', contract.functions.getAssetInfo(x).call()[1])\n",
    "    print ('chainlink_price_feed', contract.functions.getAssetInfo(x).call()[2])\n",
    "    print ('---------------------------------------------------------------')"
   ]
  },
  {
   "cell_type": "code",
   "execution_count": 10,
   "metadata": {},
   "outputs": [
    {
     "name": "stdout",
     "output_type": "stream",
     "text": [
      "Wrapped Ether 18 1209.8417886229417\n",
      "(PoS) Wrapped BTC 8 280.48327759\n",
      "Wrapped Matic 18 13494274.025718307\n",
      "USD Coin (PoS) 6 2797723.2846709997\n"
     ]
    }
   ],
   "source": [
    "collateral0 = '0x7ceB23fD6bC0adD59E62ac25578270cFf1b9f619' # Wrapped Ether\n",
    "collateral1 = '0x1BFD67037B42Cf73acF2047067bd4F2C47D9BfD6' # Wrapped Bitcoin\n",
    "collateral2 = '0x0d500B1d8E8eF31E21C99d1Db9A6444d3ADf1270' # WMatic\n",
    "\n",
    "base_token = contract.functions.baseToken().call()\n",
    "collateral_list = [collateral0, collateral1, collateral2, base_token]\n",
    "tvl = {}\n",
    "\n",
    "with open (\"./abi/erc20.json\") as file:\n",
    "    erc_abi = json.load (file)\n",
    "\n",
    "for collateral in collateral_list:\n",
    "    collateralcontract = web3.eth.contract(address=collateral, abi=erc_abi)\n",
    "    d = collateralcontract.functions.decimals().call()\n",
    "    locked = (collateralcontract.functions.balanceOf(sc_address).call()) * 10 ** -(int(d))\n",
    "    print (collateralcontract.functions.name().call(), d, locked)\n",
    "    tvl[collateralcontract.functions.name().call()] = locked"
   ]
  },
  {
   "cell_type": "code",
   "execution_count": 11,
   "metadata": {},
   "outputs": [],
   "source": [
    "import requests\n",
    "\n",
    "url = \"https://api.coingecko.com/api/v3/simple/price?ids=bitcoin&vs_currencies=usd\"\n",
    "btc_price = requests.get(url).json()[\"bitcoin\"][\"usd\"]\n",
    "\n",
    "url = \"https://api.coingecko.com/api/v3/simple/price?ids=ethereum&vs_currencies=usd\"\n",
    "eth_price = requests.get(url).json()[\"ethereum\"][\"usd\"]\n",
    "\n",
    "url = \"https://api.coingecko.com/api/v3/simple/price?ids=matic-network&vs_currencies=usd\"\n",
    "matic_price = requests.get(url).json()[\"matic-network\"][\"usd\"]\n",
    "\n",
    "url = \"https://api.coingecko.com/api/v3/simple/price?ids=usd-coin&vs_currencies=usd\"\n",
    "usdc_price = requests.get(url).json()[\"usd-coin\"][\"usd\"]"
   ]
  },
  {
   "cell_type": "code",
   "execution_count": 12,
   "metadata": {},
   "outputs": [
    {
     "data": {
      "text/plain": [
       "{'(PoS) Wrapped BTC': 69190,\n",
       " 'Wrapped Ether': 3754.83,\n",
       " 'Wrapped Matic': 0.732305,\n",
       " 'USD Coin (PoS)': 1.0}"
      ]
     },
     "execution_count": 12,
     "metadata": {},
     "output_type": "execute_result"
    }
   ],
   "source": [
    "prices_dic = {\n",
    "  '(PoS) Wrapped BTC':btc_price, \n",
    "  'Wrapped Ether': eth_price,\n",
    "  'Wrapped Matic': matic_price,\n",
    "  'USD Coin (PoS)': usdc_price\n",
    "}\n",
    "prices_dic"
   ]
  },
  {
   "cell_type": "code",
   "execution_count": 13,
   "metadata": {},
   "outputs": [
    {
     "data": {
      "text/html": [
       "<div>\n",
       "<style scoped>\n",
       "    .dataframe tbody tr th:only-of-type {\n",
       "        vertical-align: middle;\n",
       "    }\n",
       "\n",
       "    .dataframe tbody tr th {\n",
       "        vertical-align: top;\n",
       "    }\n",
       "\n",
       "    .dataframe thead th {\n",
       "        text-align: right;\n",
       "    }\n",
       "</style>\n",
       "<table border=\"1\" class=\"dataframe\">\n",
       "  <thead>\n",
       "    <tr style=\"text-align: right;\">\n",
       "      <th></th>\n",
       "      <th>token_amount</th>\n",
       "      <th>price</th>\n",
       "    </tr>\n",
       "  </thead>\n",
       "  <tbody>\n",
       "    <tr>\n",
       "      <th>Wrapped Ether</th>\n",
       "      <td>1.209842e+03</td>\n",
       "      <td>3754.830000</td>\n",
       "    </tr>\n",
       "    <tr>\n",
       "      <th>(PoS) Wrapped BTC</th>\n",
       "      <td>2.804833e+02</td>\n",
       "      <td>69190.000000</td>\n",
       "    </tr>\n",
       "    <tr>\n",
       "      <th>Wrapped Matic</th>\n",
       "      <td>1.349427e+07</td>\n",
       "      <td>0.732305</td>\n",
       "    </tr>\n",
       "    <tr>\n",
       "      <th>USD Coin (PoS)</th>\n",
       "      <td>2.797723e+06</td>\n",
       "      <td>1.000000</td>\n",
       "    </tr>\n",
       "  </tbody>\n",
       "</table>\n",
       "</div>"
      ],
      "text/plain": [
       "                   token_amount         price\n",
       "Wrapped Ether      1.209842e+03   3754.830000\n",
       "(PoS) Wrapped BTC  2.804833e+02  69190.000000\n",
       "Wrapped Matic      1.349427e+07      0.732305\n",
       "USD Coin (PoS)     2.797723e+06      1.000000"
      ]
     },
     "execution_count": 13,
     "metadata": {},
     "output_type": "execute_result"
    }
   ],
   "source": [
    "import pandas as pd\n",
    "\n",
    "df = pd.DataFrame.from_dict(tvl, orient='index', columns=['token_amount'])\n",
    "df['price'] = df.index.map(prices_dic)\n",
    "df.head()"
   ]
  },
  {
   "cell_type": "code",
   "execution_count": 14,
   "metadata": {},
   "outputs": [
    {
     "data": {
      "text/plain": [
       "36629035.84470183"
      ]
     },
     "execution_count": 14,
     "metadata": {},
     "output_type": "execute_result"
    }
   ],
   "source": [
    "df['amount_usd'] = df['token_amount'] * df['price']\n",
    "tvl = df.amount_usd.sum()\n",
    "tvl"
   ]
  },
  {
   "cell_type": "code",
   "execution_count": 15,
   "metadata": {},
   "outputs": [
    {
     "data": {
      "text/plain": [
       "33831312.560030825"
      ]
     },
     "execution_count": 15,
     "metadata": {},
     "output_type": "execute_result"
    }
   ],
   "source": [
    "total_collateral = df['amount_usd'].iloc[:-1].sum()\n",
    "total_collateral"
   ]
  },
  {
   "cell_type": "code",
   "execution_count": 16,
   "metadata": {},
   "outputs": [
    {
     "data": {
      "text/plain": [
       "14263946.949843999"
      ]
     },
     "execution_count": 16,
     "metadata": {},
     "output_type": "execute_result"
    }
   ],
   "source": [
    "total_borrow = contract.functions.totalBorrow().call() * 10 ** -int(decimals)\n",
    "total_borrow"
   ]
  },
  {
   "cell_type": "code",
   "execution_count": 17,
   "metadata": {},
   "outputs": [
    {
     "data": {
      "text/plain": [
       "42.16196733287785"
      ]
     },
     "execution_count": 17,
     "metadata": {},
     "output_type": "execute_result"
    }
   ],
   "source": [
    "loan_to_deposit_ratio = (total_borrow / total_collateral) * 100\n",
    "loan_to_deposit_ratio"
   ]
  },
  {
   "cell_type": "code",
   "execution_count": 18,
   "metadata": {},
   "outputs": [
    {
     "data": {
      "text/plain": [
       "16776940.919552999"
      ]
     },
     "execution_count": 18,
     "metadata": {},
     "output_type": "execute_result"
    }
   ],
   "source": [
    "total_earning = contract.functions.totalSupply().call() * 10 ** -int(decimals)\n",
    "total_earning"
   ]
  },
  {
   "cell_type": "code",
   "execution_count": 19,
   "metadata": {},
   "outputs": [
    {
     "data": {
      "text/plain": [
       "85.02106282636129"
      ]
     },
     "execution_count": 19,
     "metadata": {},
     "output_type": "execute_result"
    }
   ],
   "source": [
    "utilization = contract.functions.getUtilization().call() * 10 ** -18\n",
    "utilization * 100"
   ]
  },
  {
   "cell_type": "code",
   "execution_count": 20,
   "metadata": {},
   "outputs": [
    {
     "data": {
      "text/plain": [
       "284729.392598"
      ]
     },
     "execution_count": 20,
     "metadata": {},
     "output_type": "execute_result"
    }
   ],
   "source": [
    "contract.functions.getReserves().call() * 10 ** -decimals"
   ]
  }
 ],
 "metadata": {
  "kernelspec": {
   "display_name": "base",
   "language": "python",
   "name": "python3"
  },
  "language_info": {
   "codemirror_mode": {
    "name": "ipython",
    "version": 3
   },
   "file_extension": ".py",
   "mimetype": "text/x-python",
   "name": "python",
   "nbconvert_exporter": "python",
   "pygments_lexer": "ipython3",
   "version": "3.11.5"
  }
 },
 "nbformat": 4,
 "nbformat_minor": 2
}
