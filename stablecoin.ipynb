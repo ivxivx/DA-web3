{
 "cells": [
  {
   "cell_type": "code",
   "execution_count": 1,
   "metadata": {},
   "outputs": [],
   "source": [
    "%%capture --no-display\n",
    "%pip install python-dotenv\n",
    "%pip install web3"
   ]
  },
  {
   "cell_type": "code",
   "execution_count": 2,
   "metadata": {},
   "outputs": [],
   "source": [
    "%load_ext dotenv\n",
    "%dotenv"
   ]
  },
  {
   "cell_type": "code",
   "execution_count": 3,
   "metadata": {},
   "outputs": [],
   "source": [
    "import os\n",
    "\n",
    "infuraApiKey = os.environ.get(\"INFURA_API_KEY\")"
   ]
  },
  {
   "cell_type": "code",
   "execution_count": 4,
   "metadata": {},
   "outputs": [
    {
     "data": {
      "text/plain": [
       "True"
      ]
     },
     "execution_count": 4,
     "metadata": {},
     "output_type": "execute_result"
    }
   ],
   "source": [
    "from web3 import Web3\n",
    "\n",
    "infura_url = f\"https://mainnet.infura.io/v3/{infuraApiKey}\"\n",
    "web3 = Web3(Web3.HTTPProvider(infura_url))\n",
    "web3.is_connected()"
   ]
  },
  {
   "cell_type": "code",
   "execution_count": 5,
   "metadata": {},
   "outputs": [],
   "source": [
    "import json\n",
    "\n",
    "sc_address = \"0xdAC17F958D2ee523a2206206994597C13D831ec7\"\n",
    "with open (\"./abi/erc20.json\") as file:\n",
    "    abi = json.load(file)\n",
    "\n",
    "contract = web3.eth.contract(address=sc_address, abi=abi)"
   ]
  },
  {
   "cell_type": "code",
   "execution_count": 6,
   "metadata": {},
   "outputs": [
    {
     "data": {
      "text/plain": [
       "[<Function DOMAIN_SEPARATOR()>,\n",
       " <Function PERMIT_TYPEHASH()>,\n",
       " <Function allowance(address,address)>,\n",
       " <Function approve(address,uint256)>,\n",
       " <Function balanceOf(address)>,\n",
       " <Function burn(address,uint256)>,\n",
       " <Function decimals()>,\n",
       " <Function deny(address)>,\n",
       " <Function mint(address,uint256)>,\n",
       " <Function move(address,address,uint256)>,\n",
       " <Function name()>,\n",
       " <Function nonces(address)>,\n",
       " <Function permit(address,address,uint256,uint256,bool,uint8,bytes32,bytes32)>,\n",
       " <Function pull(address,uint256)>,\n",
       " <Function push(address,uint256)>,\n",
       " <Function rely(address)>,\n",
       " <Function symbol()>,\n",
       " <Function totalSupply()>,\n",
       " <Function transfer(address,uint256)>,\n",
       " <Function transferFrom(address,address,uint256)>,\n",
       " <Function version()>,\n",
       " <Function wards(address)>]"
      ]
     },
     "execution_count": 6,
     "metadata": {},
     "output_type": "execute_result"
    }
   ],
   "source": [
    "contract.all_functions()"
   ]
  },
  {
   "cell_type": "code",
   "execution_count": 7,
   "metadata": {},
   "outputs": [
    {
     "name": "stdout",
     "output_type": "stream",
     "text": [
      "Name:  Tether USD\n",
      "Name:  USDT\n",
      "Decimals:  6\n",
      "Max supply is:  51998658367.64296\n",
      "USDT holdings:  154768477.893612\n"
     ]
    }
   ],
   "source": [
    "print (\"Name: \", contract.functions.name().call())\n",
    "print (\"Name: \", contract.functions.symbol().call())\n",
    "print (\"Decimals: \", contract.functions.decimals().call())\n",
    "print (\"Max supply is: \", contract.functions.totalSupply().call() * 10 ** -6)\n",
    "print (\"USDT holdings: \", contract.functions.balanceOf('0x56Eddb7aa87536c09CCc2793473599fD21A8b17F').call() * 10 ** -6)"
   ]
  }
 ],
 "metadata": {
  "kernelspec": {
   "display_name": "base",
   "language": "python",
   "name": "python3"
  },
  "language_info": {
   "codemirror_mode": {
    "name": "ipython",
    "version": 3
   },
   "file_extension": ".py",
   "mimetype": "text/x-python",
   "name": "python",
   "nbconvert_exporter": "python",
   "pygments_lexer": "ipython3",
   "version": "3.11.5"
  }
 },
 "nbformat": 4,
 "nbformat_minor": 2
}
