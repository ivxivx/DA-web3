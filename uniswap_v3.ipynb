{
 "cells": [
  {
   "cell_type": "code",
   "execution_count": 1,
   "metadata": {},
   "outputs": [],
   "source": [
    "%%capture --no-display\n",
    "%pip install python-dotenv\n",
    "%pip install web3"
   ]
  },
  {
   "cell_type": "code",
   "execution_count": 2,
   "metadata": {},
   "outputs": [],
   "source": [
    "%load_ext dotenv\n",
    "%dotenv"
   ]
  },
  {
   "cell_type": "code",
   "execution_count": 3,
   "metadata": {},
   "outputs": [],
   "source": [
    "import os\n",
    "\n",
    "infuraApiKey = os.environ.get(\"INFURA_API_KEY\")"
   ]
  },
  {
   "cell_type": "code",
   "execution_count": 4,
   "metadata": {},
   "outputs": [
    {
     "data": {
      "text/plain": [
       "True"
      ]
     },
     "execution_count": 4,
     "metadata": {},
     "output_type": "execute_result"
    }
   ],
   "source": [
    "from web3 import Web3\n",
    "\n",
    "infura_url = f\"https://mainnet.infura.io/v3/{infuraApiKey}\"\n",
    "web3 = Web3(Web3.HTTPProvider(infura_url))\n",
    "web3.is_connected()"
   ]
  },
  {
   "cell_type": "markdown",
   "metadata": {},
   "source": [
    "Contract for USDC/wETH"
   ]
  },
  {
   "cell_type": "code",
   "execution_count": 5,
   "metadata": {},
   "outputs": [
    {
     "data": {
      "text/plain": [
       "[<Function burn(int24,int24,uint128)>,\n",
       " <Function collect(address,int24,int24,uint128,uint128)>,\n",
       " <Function collectProtocol(address,uint128,uint128)>,\n",
       " <Function factory()>,\n",
       " <Function fee()>,\n",
       " <Function feeGrowthGlobal0X128()>,\n",
       " <Function feeGrowthGlobal1X128()>,\n",
       " <Function flash(address,uint256,uint256,bytes)>,\n",
       " <Function increaseObservationCardinalityNext(uint16)>,\n",
       " <Function initialize(uint160)>,\n",
       " <Function liquidity()>,\n",
       " <Function maxLiquidityPerTick()>,\n",
       " <Function mint(address,int24,int24,uint128,bytes)>,\n",
       " <Function observations(uint256)>,\n",
       " <Function observe(uint32[])>,\n",
       " <Function positions(bytes32)>,\n",
       " <Function protocolFees()>,\n",
       " <Function setFeeProtocol(uint8,uint8)>,\n",
       " <Function slot0()>,\n",
       " <Function snapshotCumulativesInside(int24,int24)>,\n",
       " <Function swap(address,bool,int256,uint160,bytes)>,\n",
       " <Function tickBitmap(int16)>,\n",
       " <Function tickSpacing()>,\n",
       " <Function ticks(int24)>,\n",
       " <Function token0()>,\n",
       " <Function token1()>]"
      ]
     },
     "execution_count": 5,
     "metadata": {},
     "output_type": "execute_result"
    }
   ],
   "source": [
    "import json\n",
    "\n",
    "sc_address = \"0x88e6A0c2dDD26FEEb64F039a2c41296FcB3f5640\"\n",
    "with open (\"./abi/uniswap_v3.json\") as file:\n",
    "    abi= json.load (file)\n",
    "\n",
    "contract = web3.eth.contract(address=sc_address, abi=abi)\n",
    "contract.all_functions()"
   ]
  },
  {
   "cell_type": "code",
   "execution_count": 6,
   "metadata": {},
   "outputs": [
    {
     "data": {
      "text/plain": [
       "('0xA0b86991c6218b36c1d19D4a2e9Eb0cE3606eB48',\n",
       " '0xC02aaA39b223FE8D0A0e5C4F27eAD9083C756Cc2')"
      ]
     },
     "execution_count": 6,
     "metadata": {},
     "output_type": "execute_result"
    }
   ],
   "source": [
    "# 0: USDC, 1: wETH\n",
    "token0 = contract.functions.token0().call()\n",
    "token1 = contract.functions.token1().call()\n",
    "token0, token1"
   ]
  },
  {
   "cell_type": "code",
   "execution_count": 7,
   "metadata": {},
   "outputs": [
    {
     "data": {
      "text/plain": [
       "19.074287915313068"
      ]
     },
     "execution_count": 7,
     "metadata": {},
     "output_type": "execute_result"
    }
   ],
   "source": [
    "contract.functions.liquidity().call() * 10 ** -18"
   ]
  },
  {
   "cell_type": "code",
   "execution_count": 8,
   "metadata": {},
   "outputs": [
    {
     "data": {
      "text/plain": [
       "115006086.351301"
      ]
     },
     "execution_count": 8,
     "metadata": {},
     "output_type": "execute_result"
    }
   ],
   "source": [
    "with open (\"./abi/erc20.json\") as file:\n",
    "    abi= json.load (file)\n",
    "\n",
    "token0Contract = web3.eth.contract(address=token0, abi=abi)\n",
    "token0Contract.functions.balanceOf(sc_address).call() * 10 ** -6"
   ]
  },
  {
   "cell_type": "code",
   "execution_count": 9,
   "metadata": {},
   "outputs": [
    {
     "data": {
      "text/plain": [
       "2.5133958262635696e+16"
      ]
     },
     "execution_count": 9,
     "metadata": {},
     "output_type": "execute_result"
    }
   ],
   "source": [
    "with open (\"./abi/erc20.json\") as file:\n",
    "    abi= json.load (file)\n",
    "\n",
    "token1Contract = web3.eth.contract(address=token1, abi=abi)\n",
    "token1Contract.functions.balanceOf(sc_address).call() * 10 ** -6"
   ]
  },
  {
   "cell_type": "markdown",
   "metadata": {},
   "source": [
    "  ```function slot0() external view returns (\n",
    "    uint160 sqrtPriceX96, \n",
    "    int24 tick, \n",
    "    uint16 observationIndex, \n",
    "    uint16 observationCardinality, \n",
    "    uint16 observationCardinalityNext, \n",
    "    uint8 feeProtocol, \n",
    "    bool unlocked\n",
    "  )```"
   ]
  },
  {
   "cell_type": "code",
   "execution_count": 10,
   "metadata": {},
   "outputs": [
    {
     "data": {
      "text/plain": [
       "[1293155196970929519140303586459648, 194014, 193, 723, 723, 0, True]"
      ]
     },
     "execution_count": 10,
     "metadata": {},
     "output_type": "execute_result"
    }
   ],
   "source": [
    "slot = contract.functions.slot0().call()\n",
    "slot"
   ]
  },
  {
   "cell_type": "code",
   "execution_count": 11,
   "metadata": {},
   "outputs": [
    {
     "data": {
      "text/plain": [
       "266378821.51809126"
      ]
     },
     "execution_count": 11,
     "metadata": {},
     "output_type": "execute_result"
    }
   ],
   "source": [
    "tick = slot[1]\n",
    "rawPrice = 1.0001 ** tick\n",
    "rawPrice"
   ]
  },
  {
   "cell_type": "code",
   "execution_count": 12,
   "metadata": {},
   "outputs": [
    {
     "data": {
      "text/plain": [
       "0.00026637882151809124"
      ]
     },
     "execution_count": 12,
     "metadata": {},
     "output_type": "execute_result"
    }
   ],
   "source": [
    "usdc_weth_price = 1.0001 ** tick * (10 ** -12) \n",
    "usdc_weth_price"
   ]
  },
  {
   "cell_type": "code",
   "execution_count": 13,
   "metadata": {},
   "outputs": [
    {
     "data": {
      "text/plain": [
       "3754.052196420895"
      ]
     },
     "execution_count": 13,
     "metadata": {},
     "output_type": "execute_result"
    }
   ],
   "source": [
    "weth_usdc_price = 1 / usdc_weth_price\n",
    "weth_usdc_price"
   ]
  }
 ],
 "metadata": {
  "kernelspec": {
   "display_name": "base",
   "language": "python",
   "name": "python3"
  },
  "language_info": {
   "codemirror_mode": {
    "name": "ipython",
    "version": 3
   },
   "file_extension": ".py",
   "mimetype": "text/x-python",
   "name": "python",
   "nbconvert_exporter": "python",
   "pygments_lexer": "ipython3",
   "version": "3.11.5"
  }
 },
 "nbformat": 4,
 "nbformat_minor": 2
}
