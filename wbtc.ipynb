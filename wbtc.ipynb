{
 "cells": [
  {
   "cell_type": "code",
   "execution_count": 1,
   "metadata": {},
   "outputs": [],
   "source": [
    "%%capture --no-display\n",
    "%pip install python-dotenv\n",
    "%pip install web3"
   ]
  },
  {
   "cell_type": "code",
   "execution_count": 2,
   "metadata": {},
   "outputs": [],
   "source": [
    "%load_ext dotenv\n",
    "%dotenv"
   ]
  },
  {
   "cell_type": "code",
   "execution_count": 3,
   "metadata": {},
   "outputs": [],
   "source": [
    "import os\n",
    "\n",
    "infuraApiKey = os.environ.get(\"INFURA_API_KEY\")"
   ]
  },
  {
   "cell_type": "code",
   "execution_count": 4,
   "metadata": {},
   "outputs": [
    {
     "data": {
      "text/plain": [
       "True"
      ]
     },
     "execution_count": 4,
     "metadata": {},
     "output_type": "execute_result"
    }
   ],
   "source": [
    "from web3 import Web3\n",
    "\n",
    "infura_url = f\"https://mainnet.infura.io/v3/{infuraApiKey}\"\n",
    "web3 = Web3(Web3.HTTPProvider(infura_url))\n",
    "web3.is_connected()\n"
   ]
  },
  {
   "cell_type": "markdown",
   "metadata": {},
   "source": [
    "[Wrapped BTC](https://etherscan.io/address/0x2260FAC5E5542a773Aa44fBCfeDf7C193bc2C599)"
   ]
  },
  {
   "cell_type": "code",
   "execution_count": 5,
   "metadata": {},
   "outputs": [],
   "source": [
    "import json\n",
    "\n",
    "sc_address=\"0x2260FAC5E5542a773Aa44fBCfeDf7C193bc2C599\"\n",
    "with open (\"./abi/wbtc.json\") as file:\n",
    "    abi = json.load(file)\n",
    "\n",
    "contract = web3.eth.contract(address=sc_address, abi=abi)"
   ]
  },
  {
   "cell_type": "markdown",
   "metadata": {},
   "source": [
    "List all functions within the contract:"
   ]
  },
  {
   "cell_type": "code",
   "execution_count": 6,
   "metadata": {},
   "outputs": [
    {
     "data": {
      "text/plain": [
       "[<Function mintingFinished()>,\n",
       " <Function name()>,\n",
       " <Function approve(address,uint256)>,\n",
       " <Function reclaimToken(address)>,\n",
       " <Function totalSupply()>,\n",
       " <Function transferFrom(address,address,uint256)>,\n",
       " <Function decimals()>,\n",
       " <Function unpause()>,\n",
       " <Function mint(address,uint256)>,\n",
       " <Function burn(uint256)>,\n",
       " <Function claimOwnership()>,\n",
       " <Function paused()>,\n",
       " <Function decreaseApproval(address,uint256)>,\n",
       " <Function balanceOf(address)>,\n",
       " <Function renounceOwnership()>,\n",
       " <Function finishMinting()>,\n",
       " <Function pause()>,\n",
       " <Function owner()>,\n",
       " <Function symbol()>,\n",
       " <Function transfer(address,uint256)>,\n",
       " <Function increaseApproval(address,uint256)>,\n",
       " <Function allowance(address,address)>,\n",
       " <Function pendingOwner()>,\n",
       " <Function transferOwnership(address)>]"
      ]
     },
     "execution_count": 6,
     "metadata": {},
     "output_type": "execute_result"
    }
   ],
   "source": [
    "contract.all_functions()"
   ]
  },
  {
   "cell_type": "markdown",
   "metadata": {},
   "source": [
    "Calculate total value locked (TVL)"
   ]
  },
  {
   "cell_type": "code",
   "execution_count": 7,
   "metadata": {},
   "outputs": [
    {
     "data": {
      "text/plain": [
       "(10756427226.505116, 15528486374143, 8, 69269)"
      ]
     },
     "execution_count": 7,
     "metadata": {},
     "output_type": "execute_result"
    }
   ],
   "source": [
    "import requests\n",
    "\n",
    "supply = contract.functions.totalSupply().call()\n",
    "\n",
    "decimals = contract.functions.decimals().call()\n",
    "\n",
    "url = f\"https://api.coingecko.com/api/v3/simple/token_price/ethereum?contract_addresses={sc_address}&vs_currencies=USD\"\n",
    "response = requests.get(url)\n",
    "data = response.json()\n",
    "price = data[sc_address.lower()][\"usd\"]\n",
    "\n",
    "tvl = (supply * 10 ** -decimals) * price\n",
    "tvl, supply, decimals, price"
   ]
  }
 ],
 "metadata": {
  "kernelspec": {
   "display_name": "langchain_ai",
   "language": "python",
   "name": "python3"
  },
  "language_info": {
   "codemirror_mode": {
    "name": "ipython",
    "version": 3
   },
   "file_extension": ".py",
   "mimetype": "text/x-python",
   "name": "python",
   "nbconvert_exporter": "python",
   "pygments_lexer": "ipython3",
   "version": "3.11.5"
  }
 },
 "nbformat": 4,
 "nbformat_minor": 2
}
